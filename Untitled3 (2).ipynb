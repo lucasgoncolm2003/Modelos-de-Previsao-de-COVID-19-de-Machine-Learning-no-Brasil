{
 "cells": [
  {
   "cell_type": "markdown",
   "id": "8c3f049f",
   "metadata": {},
   "source": [
    "# Modelos de Previsão de COVID-19 de Machine Learning no Brasil por Regressão Logística de Prophet e Modelo ARIMA com Python e Jupyter - [Pandas, Numpy, Datetime, Plotly.Express, Plotly.Graph_Objects, Matplotlib, Seasonal_Decompose, Prophet & ARIMA]\n",
    "\n",
    "## Análise de Séries Temporais sobre a Contaminação da COVID-19.\n",
    "### - Modelos de Previsão de Evolução da Pandemia da COVID-19 no Brasil\n",
    "### - Linguagem Python e Plataforma Jupyter\n",
    "### - Machine Learning ou Aprendizagem de Máquina\n",
    "#### - Decomposição de Séries Temporais com Modelo Auto-Regressivo Integrado de Médias Móveis (ARIMA)\n",
    "#### - Modelo de Crescimento com Regressão Logística para Predição de Função Sigmóide em Prophet"
   ]
  },
  {
   "cell_type": "code",
   "execution_count": 24,
   "id": "8f837350",
   "metadata": {},
   "outputs": [
    {
     "ename": "NameError",
     "evalue": "name 'type_check' is not defined",
     "output_type": "error",
     "traceback": [
      "\u001b[1;31m---------------------------------------------------------------------------\u001b[0m",
      "\u001b[1;31mNameError\u001b[0m                                 Traceback (most recent call last)",
      "Input \u001b[1;32mIn [24]\u001b[0m, in \u001b[0;36m<cell line: 1>\u001b[1;34m()\u001b[0m\n\u001b[1;32m----> 1\u001b[0m \u001b[38;5;28;01mimport\u001b[39;00m \u001b[38;5;21;01mpandas\u001b[39;00m \u001b[38;5;28;01mas\u001b[39;00m \u001b[38;5;21;01mpd\u001b[39;00m\n\u001b[0;32m      2\u001b[0m \u001b[38;5;28;01mimport\u001b[39;00m \u001b[38;5;21;01mnumpy\u001b[39;00m \u001b[38;5;28;01mas\u001b[39;00m \u001b[38;5;21;01mnp\u001b[39;00m\n\u001b[0;32m      3\u001b[0m \u001b[38;5;28;01mfrom\u001b[39;00m \u001b[38;5;21;01mdatetime\u001b[39;00m \u001b[38;5;28;01mimport\u001b[39;00m datetime\n",
      "File \u001b[1;32m~\\anaconda4\\lib\\site-packages\\pandas\\__init__.py:11\u001b[0m, in \u001b[0;36m<module>\u001b[1;34m\u001b[0m\n\u001b[0;32m      9\u001b[0m \u001b[38;5;28;01mfor\u001b[39;00m dependency \u001b[38;5;129;01min\u001b[39;00m hard_dependencies:\n\u001b[0;32m     10\u001b[0m     \u001b[38;5;28;01mtry\u001b[39;00m:\n\u001b[1;32m---> 11\u001b[0m         \u001b[38;5;28;43m__import__\u001b[39;49m\u001b[43m(\u001b[49m\u001b[43mdependency\u001b[49m\u001b[43m)\u001b[49m\n\u001b[0;32m     12\u001b[0m     \u001b[38;5;28;01mexcept\u001b[39;00m \u001b[38;5;167;01mImportError\u001b[39;00m \u001b[38;5;28;01mas\u001b[39;00m e:\n\u001b[0;32m     13\u001b[0m         missing_dependencies\u001b[38;5;241m.\u001b[39mappend(\u001b[38;5;124mf\u001b[39m\u001b[38;5;124m\"\u001b[39m\u001b[38;5;132;01m{\u001b[39;00mdependency\u001b[38;5;132;01m}\u001b[39;00m\u001b[38;5;124m: \u001b[39m\u001b[38;5;132;01m{\u001b[39;00me\u001b[38;5;132;01m}\u001b[39;00m\u001b[38;5;124m\"\u001b[39m)\n",
      "File \u001b[1;32m~\\anaconda4\\lib\\site-packages\\numpy\\__init__.py:153\u001b[0m, in \u001b[0;36m<module>\u001b[1;34m\u001b[0m\n\u001b[0;32m    151\u001b[0m \u001b[38;5;28;01mfrom\u001b[39;00m \u001b[38;5;21;01m.\u001b[39;00m\u001b[38;5;21;01mcore\u001b[39;00m \u001b[38;5;28;01mimport\u001b[39;00m \u001b[38;5;241m*\u001b[39m\n\u001b[0;32m    152\u001b[0m \u001b[38;5;28;01mfrom\u001b[39;00m \u001b[38;5;21;01m.\u001b[39;00m \u001b[38;5;28;01mimport\u001b[39;00m compat\n\u001b[1;32m--> 153\u001b[0m \u001b[38;5;28;01mfrom\u001b[39;00m \u001b[38;5;21;01m.\u001b[39;00m \u001b[38;5;28;01mimport\u001b[39;00m lib\n\u001b[0;32m    154\u001b[0m \u001b[38;5;66;03m# NOTE: to be revisited following future namespace cleanup.\u001b[39;00m\n\u001b[0;32m    155\u001b[0m \u001b[38;5;66;03m# See gh-14454 and gh-15672 for discussion.\u001b[39;00m\n\u001b[0;32m    156\u001b[0m \u001b[38;5;28;01mfrom\u001b[39;00m \u001b[38;5;21;01m.\u001b[39;00m\u001b[38;5;21;01mlib\u001b[39;00m \u001b[38;5;28;01mimport\u001b[39;00m \u001b[38;5;241m*\u001b[39m\n",
      "File \u001b[1;32m~\\anaconda4\\lib\\site-packages\\numpy\\lib\\__init__.py:44\u001b[0m, in \u001b[0;36m<module>\u001b[1;34m\u001b[0m\n\u001b[0;32m     41\u001b[0m \u001b[38;5;28;01mfrom\u001b[39;00m \u001b[38;5;21;01mnumpy\u001b[39;00m\u001b[38;5;21;01m.\u001b[39;00m\u001b[38;5;21;01mcore\u001b[39;00m\u001b[38;5;21;01m.\u001b[39;00m\u001b[38;5;21;01m_multiarray_umath\u001b[39;00m \u001b[38;5;28;01mimport\u001b[39;00m tracemalloc_domain\n\u001b[0;32m     43\u001b[0m __all__ \u001b[38;5;241m=\u001b[39m [\u001b[38;5;124m'\u001b[39m\u001b[38;5;124memath\u001b[39m\u001b[38;5;124m'\u001b[39m, \u001b[38;5;124m'\u001b[39m\u001b[38;5;124mmath\u001b[39m\u001b[38;5;124m'\u001b[39m, \u001b[38;5;124m'\u001b[39m\u001b[38;5;124mtracemalloc_domain\u001b[39m\u001b[38;5;124m'\u001b[39m, \u001b[38;5;124m'\u001b[39m\u001b[38;5;124mArrayterator\u001b[39m\u001b[38;5;124m'\u001b[39m]\n\u001b[1;32m---> 44\u001b[0m __all__ \u001b[38;5;241m+\u001b[39m\u001b[38;5;241m=\u001b[39m \u001b[43mtype_check\u001b[49m\u001b[38;5;241m.\u001b[39m__all__\n\u001b[0;32m     45\u001b[0m __all__ \u001b[38;5;241m+\u001b[39m\u001b[38;5;241m=\u001b[39m index_tricks\u001b[38;5;241m.\u001b[39m__all__\n\u001b[0;32m     46\u001b[0m __all__ \u001b[38;5;241m+\u001b[39m\u001b[38;5;241m=\u001b[39m function_base\u001b[38;5;241m.\u001b[39m__all__\n",
      "\u001b[1;31mNameError\u001b[0m: name 'type_check' is not defined"
     ]
    }
   ],
   "source": [
    "import pandas as pd\n",
    "import numpy as np\n",
    "from datetime import datetime\n",
    "import plotly.express as px\n",
    "import plotly.graph_objects as go"
   ]
  },
  {
   "cell_type": "code",
   "execution_count": 11,
   "id": "102ef01c",
   "metadata": {},
   "outputs": [
    {
     "ename": "NameError",
     "evalue": "name 'pd' is not defined",
     "output_type": "error",
     "traceback": [
      "\u001b[1;31m---------------------------------------------------------------------------\u001b[0m",
      "\u001b[1;31mNameError\u001b[0m                                 Traceback (most recent call last)",
      "Input \u001b[1;32mIn [11]\u001b[0m, in \u001b[0;36m<cell line: 3>\u001b[1;34m()\u001b[0m\n\u001b[0;32m      1\u001b[0m url \u001b[38;5;241m=\u001b[39m \u001b[38;5;124m'\u001b[39m\u001b[38;5;124mhttps://github.com/neylsoncrepalde/projeto_eda_covid/blob/master/covid_19_data.csv?raw=true\u001b[39m\u001b[38;5;124m'\u001b[39m\n\u001b[0;32m      2\u001b[0m \u001b[38;5;66;03m# read_csv: faz Leitura da Tabela e converte ObservationDate e Last Update em Datas\u001b[39;00m\n\u001b[1;32m----> 3\u001b[0m df \u001b[38;5;241m=\u001b[39m \u001b[43mpd\u001b[49m\u001b[38;5;241m.\u001b[39mread_csv(url, parse_dates\u001b[38;5;241m=\u001b[39m[\u001b[38;5;124m'\u001b[39m\u001b[38;5;124mObservationDate\u001b[39m\u001b[38;5;124m'\u001b[39m, \u001b[38;5;124m'\u001b[39m\u001b[38;5;124mLast Update\u001b[39m\u001b[38;5;124m'\u001b[39m])\n\u001b[0;32m      4\u001b[0m \u001b[38;5;28mprint\u001b[39m(df)\n\u001b[0;32m      5\u001b[0m df\u001b[38;5;241m.\u001b[39mdtypes\n",
      "\u001b[1;31mNameError\u001b[0m: name 'pd' is not defined"
     ]
    }
   ],
   "source": [
    "url = 'https://github.com/neylsoncrepalde/projeto_eda_covid/blob/master/covid_19_data.csv?raw=true'\n",
    "# read_csv: faz Leitura da Tabela e converte ObservationDate e Last Update em Datas\n",
    "df = pd.read_csv(url, parse_dates=['ObservationDate', 'Last Update'])\n",
    "print(df)\n",
    "df.dtypes\n",
    "import re\n",
    "# re.sub: substitui / por Espaço, deixando o Nome das Colunas em Lower\n",
    "def corrige_colunas(col_name):\n",
    "    return re.sub(r\"[/| ]\", \"\", col_name).lower()\n",
    "# Substitui / por Espaço e coloca em Lower o nome de todas as Colunas\n",
    "df.columns = [corrige_colunas(col) for col in df.columns]\n",
    "print(df)"
   ]
  },
  {
   "cell_type": "code",
   "execution_count": 12,
   "id": "9f792f50",
   "metadata": {},
   "outputs": [
    {
     "ename": "NameError",
     "evalue": "name 'df' is not defined",
     "output_type": "error",
     "traceback": [
      "\u001b[1;31m---------------------------------------------------------------------------\u001b[0m",
      "\u001b[1;31mNameError\u001b[0m                                 Traceback (most recent call last)",
      "Input \u001b[1;32mIn [12]\u001b[0m, in \u001b[0;36m<cell line: 2>\u001b[1;34m()\u001b[0m\n\u001b[0;32m      1\u001b[0m \u001b[38;5;66;03m# loc: Localiza os Registros em que o País seja o Brasil\u001b[39;00m\n\u001b[1;32m----> 2\u001b[0m \u001b[43mdf\u001b[49m\u001b[38;5;241m.\u001b[39mloc[df\u001b[38;5;241m.\u001b[39mcountryregion \u001b[38;5;241m==\u001b[39m \u001b[38;5;124m'\u001b[39m\u001b[38;5;124mBrazil\u001b[39m\u001b[38;5;124m'\u001b[39m]\n",
      "\u001b[1;31mNameError\u001b[0m: name 'df' is not defined"
     ]
    }
   ],
   "source": [
    "# loc: Localiza os Registros em que o País seja o Brasil\n",
    "df.loc[df.countryregion == 'Brazil']"
   ]
  },
  {
   "cell_type": "code",
   "execution_count": 13,
   "id": "6c93fe38",
   "metadata": {},
   "outputs": [
    {
     "ename": "NameError",
     "evalue": "name 'df' is not defined",
     "output_type": "error",
     "traceback": [
      "\u001b[1;31m---------------------------------------------------------------------------\u001b[0m",
      "\u001b[1;31mNameError\u001b[0m                                 Traceback (most recent call last)",
      "Input \u001b[1;32mIn [13]\u001b[0m, in \u001b[0;36m<cell line: 2>\u001b[1;34m()\u001b[0m\n\u001b[0;32m      1\u001b[0m \u001b[38;5;66;03m# Encontra os Registros do Brasil e com Confirmação Positiva\u001b[39;00m\n\u001b[1;32m----> 2\u001b[0m brasil \u001b[38;5;241m=\u001b[39m \u001b[43mdf\u001b[49m\u001b[38;5;241m.\u001b[39mloc[(df\u001b[38;5;241m.\u001b[39mcountryregion \u001b[38;5;241m==\u001b[39m \u001b[38;5;124m'\u001b[39m\u001b[38;5;124mBrazil\u001b[39m\u001b[38;5;124m'\u001b[39m) \u001b[38;5;241m&\u001b[39m (df\u001b[38;5;241m.\u001b[39mconfirmed \u001b[38;5;241m>\u001b[39m \u001b[38;5;241m0\u001b[39m)]\n\u001b[0;32m      3\u001b[0m \u001b[38;5;66;03m# line: esboço de Gráfico Linear de \"Casos Confirmados no Brasil\"\u001b[39;00m\n\u001b[0;32m      4\u001b[0m \u001b[38;5;66;03m# Eixo x: nomeado Data, baseado na Variável observationdate\u001b[39;00m\n\u001b[0;32m      5\u001b[0m \u001b[38;5;66;03m# Eixo y: nomeado Número de Casos Confirmados, baseado na variável confirmed\u001b[39;00m\n\u001b[0;32m      6\u001b[0m get_ipython()\u001b[38;5;241m.\u001b[39mrun_line_magic(\u001b[38;5;124m'\u001b[39m\u001b[38;5;124mpinfo\u001b[39m\u001b[38;5;124m'\u001b[39m, \u001b[38;5;124m'\u001b[39m\u001b[38;5;124mpx.line\u001b[39m\u001b[38;5;124m'\u001b[39m)\n",
      "\u001b[1;31mNameError\u001b[0m: name 'df' is not defined"
     ]
    }
   ],
   "source": [
    "# Encontra os Registros do Brasil e com Confirmação Positiva\n",
    "brasil = df.loc[(df.countryregion == 'Brazil') & (df.confirmed > 0)]\n",
    "# line: esboço de Gráfico Linear de \"Casos Confirmados no Brasil\"\n",
    "# Eixo x: nomeado Data, baseado na Variável observationdate\n",
    "# Eixo y: nomeado Número de Casos Confirmados, baseado na variável confirmed\n",
    "px.line?\n",
    "px.line(brasil, 'observationdate', 'confirmed', \n",
    "        labels={'observationdate':'Data', 'confirmed':'Número de Casos Confirmados'},\n",
    "       title='Casos Confirmados no Brasil')"
   ]
  },
  {
   "cell_type": "code",
   "execution_count": 14,
   "id": "736077b1",
   "metadata": {},
   "outputs": [
    {
     "ename": "NameError",
     "evalue": "name 'np' is not defined",
     "output_type": "error",
     "traceback": [
      "\u001b[1;31m---------------------------------------------------------------------------\u001b[0m",
      "\u001b[1;31mNameError\u001b[0m                                 Traceback (most recent call last)",
      "Input \u001b[1;32mIn [14]\u001b[0m, in \u001b[0;36m<cell line: 3>\u001b[1;34m()\u001b[0m\n\u001b[0;32m      1\u001b[0m \u001b[38;5;66;03m# Nova Coluna novoscasos igual a uma Lista de Map, que pega uma Função e aplica em todos os casos Confirmados\u001b[39;00m\n\u001b[0;32m      2\u001b[0m \u001b[38;5;66;03m# Map retorna um Iterador em Python, sendo necessário colocar as Iterações em uma List\u001b[39;00m\n\u001b[0;32m      3\u001b[0m brasil[\u001b[38;5;124m'\u001b[39m\u001b[38;5;124mnovoscasos\u001b[39m\u001b[38;5;124m'\u001b[39m] \u001b[38;5;241m=\u001b[39m \u001b[38;5;28mlist\u001b[39m(\u001b[38;5;28mmap\u001b[39m(\n\u001b[0;32m      4\u001b[0m     \u001b[38;5;66;03m# Função Lambda para Programação de Funções Anônimas que itera por todos os Casos do Banco de Dados\u001b[39;00m\n\u001b[0;32m      5\u001b[0m     \u001b[38;5;66;03m# retorna 0 se a Linha for 0, senão a Diferença do Dia Atual com o Anterior é informada.\u001b[39;00m\n\u001b[0;32m      6\u001b[0m     \u001b[38;5;28;01mlambda\u001b[39;00m x: \u001b[38;5;241m0\u001b[39m \u001b[38;5;28;01mif\u001b[39;00m (x\u001b[38;5;241m==\u001b[39m\u001b[38;5;241m0\u001b[39m) \u001b[38;5;28;01melse\u001b[39;00m brasil[\u001b[38;5;124m'\u001b[39m\u001b[38;5;124mconfirmed\u001b[39m\u001b[38;5;124m'\u001b[39m]\u001b[38;5;241m.\u001b[39miloc[x] \u001b[38;5;241m-\u001b[39m brasil[\u001b[38;5;124m'\u001b[39m\u001b[38;5;124mconfirmed\u001b[39m\u001b[38;5;124m'\u001b[39m]\u001b[38;5;241m.\u001b[39miloc[x\u001b[38;5;241m-\u001b[39m\u001b[38;5;241m1\u001b[39m],\n\u001b[0;32m      7\u001b[0m     \u001b[38;5;66;03m# iloc: faz Subset de Variáveis e Colunas pelo Índice.\u001b[39;00m\n\u001b[1;32m----> 8\u001b[0m     \u001b[43mnp\u001b[49m\u001b[38;5;241m.\u001b[39marange(brasil\u001b[38;5;241m.\u001b[39mshape[\u001b[38;5;241m0\u001b[39m])\n\u001b[0;32m      9\u001b[0m     \u001b[38;5;66;03m# shape: retorna as Dimensões do DataFrame, e se for [0], pega apenas a Primeira Informação: as Linhas da Coluna.\u001b[39;00m\n\u001b[0;32m     10\u001b[0m ))\n",
      "\u001b[1;31mNameError\u001b[0m: name 'np' is not defined"
     ]
    }
   ],
   "source": [
    "# Nova Coluna novoscasos igual a uma Lista de Map, que pega uma Função e aplica em todos os casos Confirmados\n",
    "# Map retorna um Iterador em Python, sendo necessário colocar as Iterações em uma List\n",
    "brasil['novoscasos'] = list(map(\n",
    "    # Função Lambda para Programação de Funções Anônimas que itera por todos os Casos do Banco de Dados\n",
    "    # retorna 0 se a Linha for 0, senão a Diferença do Dia Atual com o Anterior é informada.\n",
    "    lambda x: 0 if (x==0) else brasil['confirmed'].iloc[x] - brasil['confirmed'].iloc[x-1],\n",
    "    # iloc: faz Subset de Variáveis e Colunas pelo Índice.\n",
    "    np.arange(brasil.shape[0])\n",
    "    # shape: retorna as Dimensões do DataFrame, e se for [0], pega apenas a Primeira Informação: as Linhas da Coluna.\n",
    "))"
   ]
  },
  {
   "cell_type": "code",
   "execution_count": null,
   "id": "9ca65313",
   "metadata": {},
   "outputs": [],
   "source": [
    "# Esboço de Gráfico Linear de \"Novos Casos por Dia\" com x como observationdate, y como novoscasos\n",
    "# Rótulos de Data para x e Novos Casos para y.\n",
    "px.line(brasil, x='observationdate', y='novoscasos', title='Novos Casos por Dia',\n",
    "       labels={'observationdate': 'Data', 'novoscasos': 'Novos Casos'})"
   ]
  },
  {
   "cell_type": "code",
   "execution_count": 15,
   "id": "79252113",
   "metadata": {},
   "outputs": [
    {
     "ename": "NameError",
     "evalue": "name 'go' is not defined",
     "output_type": "error",
     "traceback": [
      "\u001b[1;31m---------------------------------------------------------------------------\u001b[0m",
      "\u001b[1;31mNameError\u001b[0m                                 Traceback (most recent call last)",
      "Input \u001b[1;32mIn [15]\u001b[0m, in \u001b[0;36m<cell line: 2>\u001b[1;34m()\u001b[0m\n\u001b[0;32m      1\u001b[0m \u001b[38;5;66;03m# Atribui a fig uma Figura\u001b[39;00m\n\u001b[1;32m----> 2\u001b[0m fig \u001b[38;5;241m=\u001b[39m \u001b[43mgo\u001b[49m\u001b[38;5;241m.\u001b[39mFigure()\n\u001b[0;32m      3\u001b[0m \u001b[38;5;66;03m# Adiciona Traço de Reta com Eixo x de Data, Eixo y de Número de Mortes\u001b[39;00m\n\u001b[0;32m      4\u001b[0m \u001b[38;5;66;03m# Modo de Linhas com Círculos de Marcação\u001b[39;00m\n\u001b[0;32m      5\u001b[0m \u001b[38;5;66;03m# Retas e Marcação de Cor Vermelha.\u001b[39;00m\n\u001b[0;32m      6\u001b[0m fig\u001b[38;5;241m.\u001b[39madd_trace(\n\u001b[0;32m      7\u001b[0m     go\u001b[38;5;241m.\u001b[39mScatter(x\u001b[38;5;241m=\u001b[39mbrasil\u001b[38;5;241m.\u001b[39mobservationdate, y\u001b[38;5;241m=\u001b[39mbrasil\u001b[38;5;241m.\u001b[39mdeaths, name\u001b[38;5;241m=\u001b[39m\u001b[38;5;124m'\u001b[39m\u001b[38;5;124mMortes\u001b[39m\u001b[38;5;124m'\u001b[39m, mode\u001b[38;5;241m=\u001b[39m\u001b[38;5;124m'\u001b[39m\u001b[38;5;124mlines+markers\u001b[39m\u001b[38;5;124m'\u001b[39m,\n\u001b[0;32m      8\u001b[0m               line\u001b[38;5;241m=\u001b[39m\u001b[38;5;28mdict\u001b[39m(color\u001b[38;5;241m=\u001b[39m\u001b[38;5;124m'\u001b[39m\u001b[38;5;124mred\u001b[39m\u001b[38;5;124m'\u001b[39m))\n\u001b[0;32m      9\u001b[0m )\n",
      "\u001b[1;31mNameError\u001b[0m: name 'go' is not defined"
     ]
    }
   ],
   "source": [
    "# Atribui a fig uma Figura\n",
    "fig = go.Figure()\n",
    "# Adiciona Traço de Reta com Eixo x de Data, Eixo y de Número de Mortes\n",
    "# Modo de Linhas com Círculos de Marcação\n",
    "# Retas e Marcação de Cor Vermelha.\n",
    "fig.add_trace(\n",
    "    go.Scatter(x=brasil.observationdate, y=brasil.deaths, name='Mortes', mode='lines+markers',\n",
    "              line=dict(color='red'))\n",
    ")\n",
    "# Edição de Layout: Títulos do Eixo x, Eixo y e do Gráfico Geral\n",
    "fig.update_layout(title='Mortes por COVID-19 no Brasil',\n",
    "                   xaxis_title='Data',\n",
    "                   yaxis_title='Número de mortes')\n",
    "fig.show()"
   ]
  },
  {
   "cell_type": "code",
   "execution_count": 16,
   "id": "7a340d43",
   "metadata": {},
   "outputs": [
    {
     "ename": "NameError",
     "evalue": "name 'brasil' is not defined",
     "output_type": "error",
     "traceback": [
      "\u001b[1;31m---------------------------------------------------------------------------\u001b[0m",
      "\u001b[1;31mNameError\u001b[0m                                 Traceback (most recent call last)",
      "Input \u001b[1;32mIn [16]\u001b[0m, in \u001b[0;36m<cell line: 24>\u001b[1;34m()\u001b[0m\n\u001b[0;32m     22\u001b[0m     taxa \u001b[38;5;241m=\u001b[39m (presente\u001b[38;5;241m/\u001b[39mpassado)\u001b[38;5;241m*\u001b[39m\u001b[38;5;241m*\u001b[39m(\u001b[38;5;241m1\u001b[39m\u001b[38;5;241m/\u001b[39mn) \u001b[38;5;241m-\u001b[39m \u001b[38;5;241m1\u001b[39m\n\u001b[0;32m     23\u001b[0m     \u001b[38;5;28;01mreturn\u001b[39;00m taxa\u001b[38;5;241m*\u001b[39m\u001b[38;5;241m100\u001b[39m\n\u001b[1;32m---> 24\u001b[0m cresc_medio \u001b[38;5;241m=\u001b[39m taxa_crescimento(\u001b[43mbrasil\u001b[49m, \u001b[38;5;124m'\u001b[39m\u001b[38;5;124mconfirmed\u001b[39m\u001b[38;5;124m'\u001b[39m)\n\u001b[0;32m     25\u001b[0m \u001b[38;5;28mprint\u001b[39m(\u001b[38;5;124mf\u001b[39m\u001b[38;5;124m\"\u001b[39m\u001b[38;5;124mO Crescimento Médio do COVID no Brasil no Período Avaliado foi de \u001b[39m\u001b[38;5;132;01m{\u001b[39;00mcresc_medio\u001b[38;5;241m.\u001b[39mround(\u001b[38;5;241m2\u001b[39m)\u001b[38;5;132;01m}\u001b[39;00m\u001b[38;5;124m%.\u001b[39m\u001b[38;5;124m\"\u001b[39m)\n",
      "\u001b[1;31mNameError\u001b[0m: name 'brasil' is not defined"
     ]
    }
   ],
   "source": [
    "# Cálculo da Taxa de Crescimento: (Diapresente/Diapassado)^(1/ndias)-1\n",
    "def taxa_crescimento(data, variable, data_inicio=None, data_fim=None):\n",
    "    # Se data_inicio for None, define como a primeira data disponível no dataset\n",
    "    if data_inicio == None:\n",
    "        data_inicio = data.observationdate.loc[data[variable] > 0].min()\n",
    "        # Mínima Data onda há mais de 0 Casos\n",
    "    else:\n",
    "        data_inicio = pd.to_datetime(data_inicio)\n",
    "        # Transforma a Data de Início em DateTime\n",
    "    if data_fim == None:\n",
    "        data_fim = data.observationdate.iloc[-1]\n",
    "        # Última Data onde ocorreu um caso\n",
    "    else:\n",
    "        data_fim = pd.to_datetime(data_fim)\n",
    "        # Transforma a Data de Fim em DateTime\n",
    "    # Define os valores de presente e passado\n",
    "    passado = data.loc[data.observationdate == data_inicio, variable].values[0]\n",
    "    presente = data.loc[data.observationdate == data_fim, variable].values[0]\n",
    "    # Define o Número de Pontos no tempo que se deseja avaliar\n",
    "    n = (data_fim - data_inicio).days\n",
    "    # Calcula a taxa\n",
    "    taxa = (presente/passado)**(1/n) - 1\n",
    "    return taxa*100\n",
    "cresc_medio = taxa_crescimento(brasil, 'confirmed')\n",
    "print(f\"O Crescimento Médio do COVID no Brasil no Período Avaliado foi de {cresc_medio.round(2)}%.\")"
   ]
  },
  {
   "cell_type": "code",
   "execution_count": 17,
   "id": "ac78ef39",
   "metadata": {},
   "outputs": [
    {
     "ename": "NameError",
     "evalue": "name 'brasil' is not defined",
     "output_type": "error",
     "traceback": [
      "\u001b[1;31m---------------------------------------------------------------------------\u001b[0m",
      "\u001b[1;31mNameError\u001b[0m                                 Traceback (most recent call last)",
      "Input \u001b[1;32mIn [17]\u001b[0m, in \u001b[0;36m<cell line: 18>\u001b[1;34m()\u001b[0m\n\u001b[0;32m     11\u001b[0m     taxas \u001b[38;5;241m=\u001b[39m \u001b[38;5;28mlist\u001b[39m(\u001b[38;5;28mmap\u001b[39m(\n\u001b[0;32m     12\u001b[0m         \u001b[38;5;66;03m# Função Lambda: Atualização em Relação ao Dia Anterior: (Hoje - Ontem)/Ontem\u001b[39;00m\n\u001b[0;32m     13\u001b[0m         \u001b[38;5;28;01mlambda\u001b[39;00m x: (data[variable]\u001b[38;5;241m.\u001b[39miloc[x] \u001b[38;5;241m-\u001b[39m data[variable]\u001b[38;5;241m.\u001b[39miloc[x\u001b[38;5;241m-\u001b[39m\u001b[38;5;241m1\u001b[39m]) \u001b[38;5;241m/\u001b[39m data[variable]\u001b[38;5;241m.\u001b[39miloc[x\u001b[38;5;241m-\u001b[39m\u001b[38;5;241m1\u001b[39m],\n\u001b[0;32m     14\u001b[0m         \u001b[38;5;66;03m# Range de 1 até n+1, pois pega o Segundo Dia em diante, até n.\u001b[39;00m\n\u001b[0;32m     15\u001b[0m         \u001b[38;5;28mrange\u001b[39m(\u001b[38;5;241m1\u001b[39m,n\u001b[38;5;241m+\u001b[39m\u001b[38;5;241m1\u001b[39m)\n\u001b[0;32m     16\u001b[0m     ))\n\u001b[0;32m     17\u001b[0m     \u001b[38;5;28;01mreturn\u001b[39;00m np\u001b[38;5;241m.\u001b[39marray(taxas)\u001b[38;5;241m*\u001b[39m\u001b[38;5;241m100\u001b[39m\n\u001b[1;32m---> 18\u001b[0m tx_dia \u001b[38;5;241m=\u001b[39m taxa_crescimento_diaria(\u001b[43mbrasil\u001b[49m, \u001b[38;5;124m'\u001b[39m\u001b[38;5;124mconfirmed\u001b[39m\u001b[38;5;124m'\u001b[39m)\n\u001b[0;32m     19\u001b[0m \u001b[38;5;28mprint\u001b[39m(tx_dia)\n",
      "\u001b[1;31mNameError\u001b[0m: name 'brasil' is not defined"
     ]
    }
   ],
   "source": [
    "# Taxa de Crescimento Diária\n",
    "def taxa_crescimento_diaria(data, variable, data_inicio=None):\n",
    "    if data_inicio == None:\n",
    "    # Data de Início é a Data Mínima de Observação\n",
    "        data_inicio = data.observationdate.loc[data[variable] > 0].min()\n",
    "    else:\n",
    "        data_inicio = pd.to_datetime(data_inicio)\n",
    "    # Data de Fim é a Data Máxima de Observação\n",
    "    data_fim = data.observationdate.max()\n",
    "    n = (data_fim - data_inicio).days\n",
    "    taxas = list(map(\n",
    "        # Função Lambda: Atualização em Relação ao Dia Anterior: (Hoje - Ontem)/Ontem\n",
    "        lambda x: (data[variable].iloc[x] - data[variable].iloc[x-1]) / data[variable].iloc[x-1],\n",
    "        # Range de 1 até n+1, pois pega o Segundo Dia em diante, até n.\n",
    "        range(1,n+1)\n",
    "    ))\n",
    "    return np.array(taxas)*100\n",
    "tx_dia = taxa_crescimento_diaria(brasil, 'confirmed')\n",
    "print(tx_dia)"
   ]
  },
  {
   "cell_type": "code",
   "execution_count": 18,
   "id": "5b1a2232",
   "metadata": {},
   "outputs": [
    {
     "ename": "NameError",
     "evalue": "name 'brasil' is not defined",
     "output_type": "error",
     "traceback": [
      "\u001b[1;31m---------------------------------------------------------------------------\u001b[0m",
      "\u001b[1;31mNameError\u001b[0m                                 Traceback (most recent call last)",
      "Input \u001b[1;32mIn [18]\u001b[0m, in \u001b[0;36m<cell line: 2>\u001b[1;34m()\u001b[0m\n\u001b[0;32m      1\u001b[0m \u001b[38;5;66;03m# Primeiro Dia é o Dia em que a Data de Observação é Mínima, com mais de 0 Casos Confirmados.\u001b[39;00m\n\u001b[1;32m----> 2\u001b[0m primeiro_dia \u001b[38;5;241m=\u001b[39m \u001b[43mbrasil\u001b[49m\u001b[38;5;241m.\u001b[39mobservationdate\u001b[38;5;241m.\u001b[39mloc[brasil\u001b[38;5;241m.\u001b[39mconfirmed \u001b[38;5;241m>\u001b[39m \u001b[38;5;241m0\u001b[39m]\u001b[38;5;241m.\u001b[39mmin()\n\u001b[0;32m      3\u001b[0m \u001b[38;5;66;03m# Gráfico de Linha de Taxa de Crescimento de Casos Confirmados com:\u001b[39;00m\n\u001b[0;32m      4\u001b[0m \u001b[38;5;66;03m# Eixo x: Retorno de Dias do Primeiro Dia até o Último Dia, onde Observation Date é Máximo, do Segundo dia ao último [1:]\u001b[39;00m\n\u001b[0;32m      5\u001b[0m \u001b[38;5;66;03m# Eixo y: Taxa de Crescimento Diária.\u001b[39;00m\n\u001b[0;32m      6\u001b[0m px\u001b[38;5;241m.\u001b[39mline(x\u001b[38;5;241m=\u001b[39mpd\u001b[38;5;241m.\u001b[39mdate_range(primeiro_dia, brasil\u001b[38;5;241m.\u001b[39mobservationdate\u001b[38;5;241m.\u001b[39mmax())[\u001b[38;5;241m1\u001b[39m:],\n\u001b[0;32m      7\u001b[0m         y\u001b[38;5;241m=\u001b[39mtx_dia, title\u001b[38;5;241m=\u001b[39m\u001b[38;5;124m'\u001b[39m\u001b[38;5;124mTaxa de Crescimento de Casos Confirmados no Brasil\u001b[39m\u001b[38;5;124m'\u001b[39m,\n\u001b[0;32m      8\u001b[0m        labels\u001b[38;5;241m=\u001b[39m{\u001b[38;5;124m'\u001b[39m\u001b[38;5;124my\u001b[39m\u001b[38;5;124m'\u001b[39m:\u001b[38;5;124m'\u001b[39m\u001b[38;5;124mTaxa de Crescimento\u001b[39m\u001b[38;5;124m'\u001b[39m, \u001b[38;5;124m'\u001b[39m\u001b[38;5;124mx\u001b[39m\u001b[38;5;124m'\u001b[39m:\u001b[38;5;124m'\u001b[39m\u001b[38;5;124mData\u001b[39m\u001b[38;5;124m'\u001b[39m})\n",
      "\u001b[1;31mNameError\u001b[0m: name 'brasil' is not defined"
     ]
    }
   ],
   "source": [
    "# Primeiro Dia é o Dia em que a Data de Observação é Mínima, com mais de 0 Casos Confirmados.\n",
    "primeiro_dia = brasil.observationdate.loc[brasil.confirmed > 0].min()\n",
    "# Gráfico de Linha de Taxa de Crescimento de Casos Confirmados com:\n",
    "# Eixo x: Retorno de Dias do Primeiro Dia até o Último Dia, onde Observation Date é Máximo, do Segundo dia ao último [1:]\n",
    "# Eixo y: Taxa de Crescimento Diária.\n",
    "px.line(x=pd.date_range(primeiro_dia, brasil.observationdate.max())[1:],\n",
    "        y=tx_dia, title='Taxa de Crescimento de Casos Confirmados no Brasil',\n",
    "       labels={'y':'Taxa de Crescimento', 'x':'Data'})\n",
    "# Rótulos de \"Taxa de Crescimento\" para Eixo y e de \"Data\" para Eixo x"
   ]
  },
  {
   "cell_type": "code",
   "execution_count": 19,
   "id": "17d0cdee",
   "metadata": {},
   "outputs": [
    {
     "ename": "NameError",
     "evalue": "name 'type_check' is not defined",
     "output_type": "error",
     "traceback": [
      "\u001b[1;31m---------------------------------------------------------------------------\u001b[0m",
      "\u001b[1;31mNameError\u001b[0m                                 Traceback (most recent call last)",
      "Input \u001b[1;32mIn [19]\u001b[0m, in \u001b[0;36m<cell line: 2>\u001b[1;34m()\u001b[0m\n\u001b[0;32m      1\u001b[0m \u001b[38;5;66;03m# ---- Machine Learning\u001b[39;00m\n\u001b[1;32m----> 2\u001b[0m \u001b[38;5;28;01mfrom\u001b[39;00m \u001b[38;5;21;01mstatsmodels\u001b[39;00m\u001b[38;5;21;01m.\u001b[39;00m\u001b[38;5;21;01mtsa\u001b[39;00m\u001b[38;5;21;01m.\u001b[39;00m\u001b[38;5;21;01mseasonal\u001b[39;00m \u001b[38;5;28;01mimport\u001b[39;00m seasonal_decompose \u001b[38;5;66;03m# Biblioteca Seasonal_Decompose\u001b[39;00m\n\u001b[0;32m      3\u001b[0m \u001b[38;5;28;01mimport\u001b[39;00m \u001b[38;5;21;01mmatplotlib\u001b[39;00m\u001b[38;5;21;01m.\u001b[39;00m\u001b[38;5;21;01mpyplot\u001b[39;00m \u001b[38;5;28;01mas\u001b[39;00m \u001b[38;5;21;01mplt\u001b[39;00m \u001b[38;5;66;03m# Biblioteca Matplotlib para Gráficos Estáticos\u001b[39;00m\n\u001b[0;32m      4\u001b[0m novoscasos \u001b[38;5;241m=\u001b[39m brasil\u001b[38;5;241m.\u001b[39mnovoscasos\n",
      "File \u001b[1;32m~\\anaconda4\\lib\\site-packages\\statsmodels\\tsa\\__init__.py:1\u001b[0m, in \u001b[0;36m<module>\u001b[1;34m\u001b[0m\n\u001b[1;32m----> 1\u001b[0m \u001b[38;5;28;01mfrom\u001b[39;00m \u001b[38;5;21;01mstatsmodels\u001b[39;00m\u001b[38;5;21;01m.\u001b[39;00m\u001b[38;5;21;01mtools\u001b[39;00m\u001b[38;5;21;01m.\u001b[39;00m\u001b[38;5;21;01m_testing\u001b[39;00m \u001b[38;5;28;01mimport\u001b[39;00m PytestTester\n\u001b[0;32m      3\u001b[0m test \u001b[38;5;241m=\u001b[39m PytestTester()\n",
      "File \u001b[1;32m~\\anaconda4\\lib\\site-packages\\statsmodels\\tools\\__init__.py:1\u001b[0m, in \u001b[0;36m<module>\u001b[1;34m\u001b[0m\n\u001b[1;32m----> 1\u001b[0m \u001b[38;5;28;01mfrom\u001b[39;00m \u001b[38;5;21;01m.\u001b[39;00m\u001b[38;5;21;01mtools\u001b[39;00m \u001b[38;5;28;01mimport\u001b[39;00m add_constant, categorical\n\u001b[0;32m      2\u001b[0m \u001b[38;5;28;01mfrom\u001b[39;00m \u001b[38;5;21;01mstatsmodels\u001b[39;00m\u001b[38;5;21;01m.\u001b[39;00m\u001b[38;5;21;01mtools\u001b[39;00m\u001b[38;5;21;01m.\u001b[39;00m\u001b[38;5;21;01m_testing\u001b[39;00m \u001b[38;5;28;01mimport\u001b[39;00m PytestTester\n\u001b[0;32m      4\u001b[0m __all__ \u001b[38;5;241m=\u001b[39m [\u001b[38;5;124m'\u001b[39m\u001b[38;5;124mtest\u001b[39m\u001b[38;5;124m'\u001b[39m, \u001b[38;5;124m'\u001b[39m\u001b[38;5;124madd_constant\u001b[39m\u001b[38;5;124m'\u001b[39m, \u001b[38;5;124m'\u001b[39m\u001b[38;5;124mcategorical\u001b[39m\u001b[38;5;124m'\u001b[39m]\n",
      "File \u001b[1;32m~\\anaconda4\\lib\\site-packages\\statsmodels\\tools\\tools.py:4\u001b[0m, in \u001b[0;36m<module>\u001b[1;34m\u001b[0m\n\u001b[0;32m      1\u001b[0m \u001b[38;5;124;03m\"\"\"\u001b[39;00m\n\u001b[0;32m      2\u001b[0m \u001b[38;5;124;03mUtility functions models code\u001b[39;00m\n\u001b[0;32m      3\u001b[0m \u001b[38;5;124;03m\"\"\"\u001b[39;00m\n\u001b[1;32m----> 4\u001b[0m \u001b[38;5;28;01mimport\u001b[39;00m \u001b[38;5;21;01mnumpy\u001b[39;00m \u001b[38;5;28;01mas\u001b[39;00m \u001b[38;5;21;01mnp\u001b[39;00m\n\u001b[0;32m      5\u001b[0m \u001b[38;5;28;01mimport\u001b[39;00m \u001b[38;5;21;01mpandas\u001b[39;00m \u001b[38;5;28;01mas\u001b[39;00m \u001b[38;5;21;01mpd\u001b[39;00m\n\u001b[0;32m      6\u001b[0m \u001b[38;5;28;01mimport\u001b[39;00m \u001b[38;5;21;01mscipy\u001b[39;00m\u001b[38;5;21;01m.\u001b[39;00m\u001b[38;5;21;01mlinalg\u001b[39;00m\n",
      "File \u001b[1;32m~\\anaconda4\\lib\\site-packages\\numpy\\__init__.py:153\u001b[0m, in \u001b[0;36m<module>\u001b[1;34m\u001b[0m\n\u001b[0;32m    151\u001b[0m \u001b[38;5;28;01mfrom\u001b[39;00m \u001b[38;5;21;01m.\u001b[39;00m\u001b[38;5;21;01mcore\u001b[39;00m \u001b[38;5;28;01mimport\u001b[39;00m \u001b[38;5;241m*\u001b[39m\n\u001b[0;32m    152\u001b[0m \u001b[38;5;28;01mfrom\u001b[39;00m \u001b[38;5;21;01m.\u001b[39;00m \u001b[38;5;28;01mimport\u001b[39;00m compat\n\u001b[1;32m--> 153\u001b[0m \u001b[38;5;28;01mfrom\u001b[39;00m \u001b[38;5;21;01m.\u001b[39;00m \u001b[38;5;28;01mimport\u001b[39;00m lib\n\u001b[0;32m    154\u001b[0m \u001b[38;5;66;03m# NOTE: to be revisited following future namespace cleanup.\u001b[39;00m\n\u001b[0;32m    155\u001b[0m \u001b[38;5;66;03m# See gh-14454 and gh-15672 for discussion.\u001b[39;00m\n\u001b[0;32m    156\u001b[0m \u001b[38;5;28;01mfrom\u001b[39;00m \u001b[38;5;21;01m.\u001b[39;00m\u001b[38;5;21;01mlib\u001b[39;00m \u001b[38;5;28;01mimport\u001b[39;00m \u001b[38;5;241m*\u001b[39m\n",
      "File \u001b[1;32m~\\anaconda4\\lib\\site-packages\\numpy\\lib\\__init__.py:44\u001b[0m, in \u001b[0;36m<module>\u001b[1;34m\u001b[0m\n\u001b[0;32m     41\u001b[0m \u001b[38;5;28;01mfrom\u001b[39;00m \u001b[38;5;21;01mnumpy\u001b[39;00m\u001b[38;5;21;01m.\u001b[39;00m\u001b[38;5;21;01mcore\u001b[39;00m\u001b[38;5;21;01m.\u001b[39;00m\u001b[38;5;21;01m_multiarray_umath\u001b[39;00m \u001b[38;5;28;01mimport\u001b[39;00m tracemalloc_domain\n\u001b[0;32m     43\u001b[0m __all__ \u001b[38;5;241m=\u001b[39m [\u001b[38;5;124m'\u001b[39m\u001b[38;5;124memath\u001b[39m\u001b[38;5;124m'\u001b[39m, \u001b[38;5;124m'\u001b[39m\u001b[38;5;124mmath\u001b[39m\u001b[38;5;124m'\u001b[39m, \u001b[38;5;124m'\u001b[39m\u001b[38;5;124mtracemalloc_domain\u001b[39m\u001b[38;5;124m'\u001b[39m, \u001b[38;5;124m'\u001b[39m\u001b[38;5;124mArrayterator\u001b[39m\u001b[38;5;124m'\u001b[39m]\n\u001b[1;32m---> 44\u001b[0m __all__ \u001b[38;5;241m+\u001b[39m\u001b[38;5;241m=\u001b[39m \u001b[43mtype_check\u001b[49m\u001b[38;5;241m.\u001b[39m__all__\n\u001b[0;32m     45\u001b[0m __all__ \u001b[38;5;241m+\u001b[39m\u001b[38;5;241m=\u001b[39m index_tricks\u001b[38;5;241m.\u001b[39m__all__\n\u001b[0;32m     46\u001b[0m __all__ \u001b[38;5;241m+\u001b[39m\u001b[38;5;241m=\u001b[39m function_base\u001b[38;5;241m.\u001b[39m__all__\n",
      "\u001b[1;31mNameError\u001b[0m: name 'type_check' is not defined"
     ]
    }
   ],
   "source": [
    "# ---- Machine Learning\n",
    "from statsmodels.tsa.seasonal import seasonal_decompose # Biblioteca Seasonal_Decompose\n",
    "import matplotlib.pyplot as plt # Biblioteca Matplotlib para Gráficos Estáticos\n",
    "novoscasos = brasil.novoscasos\n",
    "novoscasos.index = brasil.observationdate # Índices são Datas\n",
    "# seasonal_decompose: faz a Decomposição dos novoscasos\n",
    "# É preciso saber os Observados, a Tendência, a Sazonalidade e o Ruído\n",
    "res = seasonal_decompose(novoscasos)\n",
    "fig, (ax1,ax2,ax3, ax4) = plt.subplots(4, 1,figsize=(10,8))\n",
    "# 4 Linhas, 1 Coluna, e uma Figura de 10x8\n",
    "ax1.plot(res.observed) # Eixo 1: o Eixo dos Observados\n",
    "ax2.plot(res.trend) # Eixo 2: o Eixo das Tendências\n",
    "ax3.plot(res.seasonal) # Eixo 3: o Eixo da Sazonalidade\n",
    "ax4.scatter(novoscasos.index, res.resid) # Eixo 4: os Resíduos ou Ruídos\n",
    "ax4.axhline(0, linestyle='dashed', c='black') # Linha Horizontal no 0 para Marcação\n",
    "plt.show()"
   ]
  },
  {
   "cell_type": "code",
   "execution_count": null,
   "id": "0ee266f2",
   "metadata": {},
   "outputs": [],
   "source": [
    "confirmados = brasil.confirmed\n",
    "confirmados.index = brasil.observationdate # Índices são as Datas\n",
    "res2 = seasonal_decompose(confirmados)\n",
    "# seasonal_decompose: faz a Decomposição a Série dos confirmados\n",
    "# É preciso saber os Observados, a Tendência, a Sazonalidade e o Ruído\n",
    "fig, (ax1,ax2,ax3, ax4) = plt.subplots(4, 1,figsize=(10,8))\n",
    "# 4 Linhas, 1 Coluna, e uma Figura de 10x8\n",
    "ax1.plot(res2.observed) # Eixo 1: o Eixo dos Observados\n",
    "ax2.plot(res2.trend) # Eixo 2: o Eixo das Tendências\n",
    "ax3.plot(res2.seasonal) # Eixo 3: o Eixo da Sazonalidade\n",
    "ax4.scatter(confirmados.index, res2.resid) # Eixo 4: o Eixo dos Resíduos\n",
    "ax4.axhline(0, linestyle='dashed', c='black') # Linha Horizontal no 0 para Marcação\n",
    "plt.show()"
   ]
  },
  {
   "cell_type": "code",
   "execution_count": 20,
   "id": "c4e4f2bd",
   "metadata": {},
   "outputs": [
    {
     "name": "stdout",
     "output_type": "stream",
     "text": [
      "^C\n"
     ]
    }
   ],
   "source": [
    "!pip install pmdarima"
   ]
  },
  {
   "cell_type": "code",
   "execution_count": 21,
   "id": "36db722c",
   "metadata": {},
   "outputs": [
    {
     "ename": "NameError",
     "evalue": "name 'type_check' is not defined",
     "output_type": "error",
     "traceback": [
      "\u001b[1;31m---------------------------------------------------------------------------\u001b[0m",
      "\u001b[1;31mNameError\u001b[0m                                 Traceback (most recent call last)",
      "Input \u001b[1;32mIn [21]\u001b[0m, in \u001b[0;36m<cell line: 4>\u001b[1;34m()\u001b[0m\n\u001b[0;32m      1\u001b[0m \u001b[38;5;66;03m# Modelo de Séries Temporais - Média Móvel Integrada Auto-Regressiva\u001b[39;00m\n\u001b[0;32m      2\u001b[0m \u001b[38;5;66;03m# ARIMA - AutoRegressive Integrated Moving Average\u001b[39;00m\n\u001b[0;32m      3\u001b[0m \u001b[38;5;66;03m# Modelagem e Previsão do Futuro com base no Passado\u001b[39;00m\n\u001b[1;32m----> 4\u001b[0m \u001b[38;5;28;01mfrom\u001b[39;00m \u001b[38;5;21;01mpmdarima\u001b[39;00m\u001b[38;5;21;01m.\u001b[39;00m\u001b[38;5;21;01marima\u001b[39;00m \u001b[38;5;28;01mimport\u001b[39;00m auto_arima \u001b[38;5;66;03m# Importação da Biblioteca ARIMA\u001b[39;00m\n\u001b[0;32m      5\u001b[0m modelo \u001b[38;5;241m=\u001b[39m auto_arima(confirmados) \u001b[38;5;66;03m# Ajuste Automático da Melhor Modelagem ARIMA Possível\u001b[39;00m\n\u001b[0;32m      6\u001b[0m \u001b[38;5;66;03m# Encontra automaticamente a Sazonalidade, Tendência, Observados e Ruídos\u001b[39;00m\n\u001b[0;32m      7\u001b[0m \u001b[38;5;66;03m# data_range: coloca um Intervalo de Predição\u001b[39;00m\n",
      "File \u001b[1;32m~\\anaconda4\\lib\\site-packages\\pmdarima\\__init__.py:52\u001b[0m, in \u001b[0;36m<module>\u001b[1;34m\u001b[0m\n\u001b[0;32m     49\u001b[0m \u001b[38;5;28;01mfrom\u001b[39;00m \u001b[38;5;21;01m.\u001b[39;00m \u001b[38;5;28;01mimport\u001b[39;00m __check_build\n\u001b[0;32m     51\u001b[0m \u001b[38;5;66;03m# Stuff we want at top-level\u001b[39;00m\n\u001b[1;32m---> 52\u001b[0m \u001b[38;5;28;01mfrom\u001b[39;00m \u001b[38;5;21;01m.\u001b[39;00m\u001b[38;5;21;01marima\u001b[39;00m \u001b[38;5;28;01mimport\u001b[39;00m auto_arima, ARIMA, AutoARIMA, StepwiseContext, decompose\n\u001b[0;32m     53\u001b[0m \u001b[38;5;28;01mfrom\u001b[39;00m \u001b[38;5;21;01m.\u001b[39;00m\u001b[38;5;21;01mutils\u001b[39;00m \u001b[38;5;28;01mimport\u001b[39;00m acf, autocorr_plot, c, pacf, plot_acf, plot_pacf, \\\n\u001b[0;32m     54\u001b[0m     tsdisplay\n\u001b[0;32m     55\u001b[0m \u001b[38;5;28;01mfrom\u001b[39;00m \u001b[38;5;21;01m.\u001b[39;00m\u001b[38;5;21;01mutils\u001b[39;00m\u001b[38;5;21;01m.\u001b[39;00m\u001b[38;5;21;01m_show_versions\u001b[39;00m \u001b[38;5;28;01mimport\u001b[39;00m show_versions\n",
      "File \u001b[1;32m~\\anaconda4\\lib\\site-packages\\pmdarima\\arima\\__init__.py:5\u001b[0m, in \u001b[0;36m<module>\u001b[1;34m\u001b[0m\n\u001b[0;32m      1\u001b[0m \u001b[38;5;66;03m# -*- coding: utf-8 -*-\u001b[39;00m\n\u001b[0;32m      2\u001b[0m \u001b[38;5;66;03m#\u001b[39;00m\n\u001b[0;32m      3\u001b[0m \u001b[38;5;66;03m# Author: Taylor Smith <taylor.smith@alkaline-ml.com>\u001b[39;00m\n\u001b[1;32m----> 5\u001b[0m \u001b[38;5;28;01mfrom\u001b[39;00m \u001b[38;5;21;01m.\u001b[39;00m\u001b[38;5;21;01mapprox\u001b[39;00m \u001b[38;5;28;01mimport\u001b[39;00m \u001b[38;5;241m*\u001b[39m\n\u001b[0;32m      6\u001b[0m \u001b[38;5;28;01mfrom\u001b[39;00m \u001b[38;5;21;01m.\u001b[39;00m\u001b[38;5;21;01marima\u001b[39;00m \u001b[38;5;28;01mimport\u001b[39;00m \u001b[38;5;241m*\u001b[39m\n\u001b[0;32m      7\u001b[0m \u001b[38;5;28;01mfrom\u001b[39;00m \u001b[38;5;21;01m.\u001b[39;00m\u001b[38;5;21;01mauto\u001b[39;00m \u001b[38;5;28;01mimport\u001b[39;00m \u001b[38;5;241m*\u001b[39m\n",
      "File \u001b[1;32m~\\anaconda4\\lib\\site-packages\\pmdarima\\arima\\approx.py:7\u001b[0m, in \u001b[0;36m<module>\u001b[1;34m\u001b[0m\n\u001b[0;32m      1\u001b[0m \u001b[38;5;66;03m# -*- coding: utf-8 -*-\u001b[39;00m\n\u001b[0;32m      2\u001b[0m \u001b[38;5;66;03m#\u001b[39;00m\n\u001b[0;32m      3\u001b[0m \u001b[38;5;66;03m# Author: Taylor Smith <taylor.smith@alkaline-ml.com>\u001b[39;00m\n\u001b[0;32m      4\u001b[0m \u001b[38;5;66;03m#\u001b[39;00m\n\u001b[0;32m      5\u001b[0m \u001b[38;5;66;03m# R approx function\u001b[39;00m\n\u001b[1;32m----> 7\u001b[0m \u001b[38;5;28;01mimport\u001b[39;00m \u001b[38;5;21;01mnumpy\u001b[39;00m \u001b[38;5;28;01mas\u001b[39;00m \u001b[38;5;21;01mnp\u001b[39;00m\n\u001b[0;32m      9\u001b[0m \u001b[38;5;28;01mfrom\u001b[39;00m \u001b[38;5;21;01m.\u001b[39;00m\u001b[38;5;21;01m.\u001b[39;00m\u001b[38;5;21;01mutils\u001b[39;00m\u001b[38;5;21;01m.\u001b[39;00m\u001b[38;5;21;01marray\u001b[39;00m \u001b[38;5;28;01mimport\u001b[39;00m c, check_endog\n\u001b[0;32m     10\u001b[0m \u001b[38;5;28;01mfrom\u001b[39;00m \u001b[38;5;21;01m.\u001b[39;00m\u001b[38;5;21;01m.\u001b[39;00m\u001b[38;5;21;01mutils\u001b[39;00m \u001b[38;5;28;01mimport\u001b[39;00m get_callable\n",
      "File \u001b[1;32m~\\anaconda4\\lib\\site-packages\\numpy\\__init__.py:153\u001b[0m, in \u001b[0;36m<module>\u001b[1;34m\u001b[0m\n\u001b[0;32m    151\u001b[0m \u001b[38;5;28;01mfrom\u001b[39;00m \u001b[38;5;21;01m.\u001b[39;00m\u001b[38;5;21;01mcore\u001b[39;00m \u001b[38;5;28;01mimport\u001b[39;00m \u001b[38;5;241m*\u001b[39m\n\u001b[0;32m    152\u001b[0m \u001b[38;5;28;01mfrom\u001b[39;00m \u001b[38;5;21;01m.\u001b[39;00m \u001b[38;5;28;01mimport\u001b[39;00m compat\n\u001b[1;32m--> 153\u001b[0m \u001b[38;5;28;01mfrom\u001b[39;00m \u001b[38;5;21;01m.\u001b[39;00m \u001b[38;5;28;01mimport\u001b[39;00m lib\n\u001b[0;32m    154\u001b[0m \u001b[38;5;66;03m# NOTE: to be revisited following future namespace cleanup.\u001b[39;00m\n\u001b[0;32m    155\u001b[0m \u001b[38;5;66;03m# See gh-14454 and gh-15672 for discussion.\u001b[39;00m\n\u001b[0;32m    156\u001b[0m \u001b[38;5;28;01mfrom\u001b[39;00m \u001b[38;5;21;01m.\u001b[39;00m\u001b[38;5;21;01mlib\u001b[39;00m \u001b[38;5;28;01mimport\u001b[39;00m \u001b[38;5;241m*\u001b[39m\n",
      "File \u001b[1;32m~\\anaconda4\\lib\\site-packages\\numpy\\lib\\__init__.py:44\u001b[0m, in \u001b[0;36m<module>\u001b[1;34m\u001b[0m\n\u001b[0;32m     41\u001b[0m \u001b[38;5;28;01mfrom\u001b[39;00m \u001b[38;5;21;01mnumpy\u001b[39;00m\u001b[38;5;21;01m.\u001b[39;00m\u001b[38;5;21;01mcore\u001b[39;00m\u001b[38;5;21;01m.\u001b[39;00m\u001b[38;5;21;01m_multiarray_umath\u001b[39;00m \u001b[38;5;28;01mimport\u001b[39;00m tracemalloc_domain\n\u001b[0;32m     43\u001b[0m __all__ \u001b[38;5;241m=\u001b[39m [\u001b[38;5;124m'\u001b[39m\u001b[38;5;124memath\u001b[39m\u001b[38;5;124m'\u001b[39m, \u001b[38;5;124m'\u001b[39m\u001b[38;5;124mmath\u001b[39m\u001b[38;5;124m'\u001b[39m, \u001b[38;5;124m'\u001b[39m\u001b[38;5;124mtracemalloc_domain\u001b[39m\u001b[38;5;124m'\u001b[39m, \u001b[38;5;124m'\u001b[39m\u001b[38;5;124mArrayterator\u001b[39m\u001b[38;5;124m'\u001b[39m]\n\u001b[1;32m---> 44\u001b[0m __all__ \u001b[38;5;241m+\u001b[39m\u001b[38;5;241m=\u001b[39m \u001b[43mtype_check\u001b[49m\u001b[38;5;241m.\u001b[39m__all__\n\u001b[0;32m     45\u001b[0m __all__ \u001b[38;5;241m+\u001b[39m\u001b[38;5;241m=\u001b[39m index_tricks\u001b[38;5;241m.\u001b[39m__all__\n\u001b[0;32m     46\u001b[0m __all__ \u001b[38;5;241m+\u001b[39m\u001b[38;5;241m=\u001b[39m function_base\u001b[38;5;241m.\u001b[39m__all__\n",
      "\u001b[1;31mNameError\u001b[0m: name 'type_check' is not defined"
     ]
    }
   ],
   "source": [
    "# Modelo de Séries Temporais - Média Móvel Integrada Auto-Regressiva\n",
    "# ARIMA - AutoRegressive Integrated Moving Average\n",
    "# Modelagem e Previsão do Futuro com base no Passado\n",
    "from pmdarima.arima import auto_arima # Importação da Biblioteca ARIMA\n",
    "modelo = auto_arima(confirmados) # Ajuste Automático da Melhor Modelagem ARIMA Possível\n",
    "# Encontra automaticamente a Sazonalidade, Tendência, Observados e Ruídos\n",
    "# data_range: coloca um Intervalo de Predição\n",
    "pd.date_range('2020-05-01', '2021-12-01')"
   ]
  },
  {
   "cell_type": "code",
   "execution_count": null,
   "id": "48e8dfc0",
   "metadata": {},
   "outputs": [],
   "source": [
    "fig = go.Figure(go.Scatter(x=confirmados.index, y=confirmados, name='Observados'))\n",
    "# add_trace: coloca Traço com Eixo x de Confirmados, e Eixo y como Predição\n",
    "fig.add_trace(go.Scatter(x=confirmados.index, y = modelo.predict_in_sample(), name='Preditos'))\n",
    "# predict_in_sample: faz o Aprendizado e o uso para prever a Série por cima da Linha de Observados\n",
    "fig.add_trace(go.Scatter(x=pd.date_range('2020-05-20', '2020-06-20'), y=modelo.predict(31), name='Forecast'))\n",
    "# predict(x): faz a Previsão de x dias.\n",
    "# add_trace: coloca Traço com Eixo x de Intervalo, e Eixo y como Predição\n",
    "# update_layout: Título do Gráfico e dos Eixos\n",
    "fig.update_layout(title='Previsão de Casos Confirmados para os Próximos Meses',\n",
    "                 yaxis_title='Casos Confirmados', xaxis_title='Data')\n",
    "fig.show()"
   ]
  },
  {
   "cell_type": "code",
   "execution_count": null,
   "id": "3b326ae4",
   "metadata": {},
   "outputs": [],
   "source": [
    "!conda install -c conda-forge fbprophet -y"
   ]
  },
  {
   "cell_type": "code",
   "execution_count": null,
   "id": "da80de02",
   "metadata": {},
   "outputs": [],
   "source": [
    "# ---- Modelo de Crescimento: Biblioteca Prophet, do Facebook\n",
    "from fbprophet import Prophet\n",
    "# Preparação ou Pré-Processamento de Dados\n",
    "train = confirmados.reset_index()[:-5] # do Início até antes dos 5 Últimos\n",
    "test = confirmados.reset_index()[-5:] # Testa os 5 Últimos\n",
    "\n",
    "# Renomeação de Colunas para Testes\n",
    "train.rename(columns={\"observationdate\":\"ds\",\"confirmed\":\"y\"},inplace=True) # ds e y é o Padrão da Biblioteca\n",
    "test.rename(columns={\"observationdate\":\"ds\",\"confirmed\":\"y\"},inplace=True) # inplace=True modifica os Dados de Train e Teste\n",
    "test = test.set_index(\"ds\")\n",
    "test = test['y']\n",
    "# Esboço de Modelo de Crescimento com base na Função Sigmóide de Contágio\n",
    "# A Regressão Logística estima a Função Sigmóide, logo growth = \"logistic\"\n",
    "# changepoints: Pontos de Mudanças Bruscas\n",
    "profeta = Prophet(growth=\"logistic\", changepoints=['2020-03-21', '2020-03-30', '2020-04-25', '2020-05-03', '2020-05-10'])\n",
    "pop = 211463256 #População do Brasil segundo a Projeção do IBGE\n",
    "train['cap'] = pop # A Capacidade do Treino abrange a População\n",
    "profeta.fit(train) # Treinamento do Modelo de Treinamento\n",
    "\n",
    "# Construindo previsões para o futuro\n",
    "# Projeção de DataFrame de Predição de 200 Dias no Futuro\n",
    "future_dates = profeta.make_future_dataframe(periods=200)\n",
    "future_dates['cap'] = pop # a Capacidade de Future_Dates é para suportar a População\n",
    "# Predição de Futuras Datas\n",
    "forecast =  profeta.predict(future_dates) # Predição de Future_Dates"
   ]
  },
  {
   "cell_type": "code",
   "execution_count": null,
   "id": "d7016f7f",
   "metadata": {},
   "outputs": [],
   "source": [
    "fig = go.Figure()\n",
    "# Adicionar Reta baseada em Forecast.ds e Forecast.yhat chamada \"Predição\"\n",
    "fig.add_trace(go.Scatter(x=forecast.ds, y=forecast.yhat, name='Predição'))\n",
    "# Adicionar Reta baseada em Índices de Teste e Teste chamada \"Observados - Teste\"\n",
    "# fig.add_trace(go.Scatter(x=test.index, y=test, name='Observados - Teste'))\n",
    "# Adicionar Reta baseada em Datas do Treino por Confirmados chamada \"Observados - Treino\"\n",
    "fig.add_trace(go.Scatter(x=train.ds, y=train.y, name='Observados - Treino'))\n",
    "# Update em Layout para  Título\n",
    "fig.update_layout(title='Predições de Casos Confirmados no Brasil')\n",
    "fig.show()"
   ]
  },
  {
   "cell_type": "code",
   "execution_count": null,
   "id": "957b714b",
   "metadata": {},
   "outputs": [],
   "source": []
  },
  {
   "cell_type": "code",
   "execution_count": null,
   "id": "0708bc0a",
   "metadata": {},
   "outputs": [],
   "source": []
  }
 ],
 "metadata": {
  "kernelspec": {
   "display_name": "Python 3 (ipykernel)",
   "language": "python",
   "name": "python3"
  },
  "language_info": {
   "codemirror_mode": {
    "name": "ipython",
    "version": 3
   },
   "file_extension": ".py",
   "mimetype": "text/x-python",
   "name": "python",
   "nbconvert_exporter": "python",
   "pygments_lexer": "ipython3",
   "version": "3.9.12"
  }
 },
 "nbformat": 4,
 "nbformat_minor": 5
}
